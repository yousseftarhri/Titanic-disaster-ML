{
 "cells": [
  {
   "cell_type": "code",
   "execution_count": 1,
   "id": "590c86ad",
   "metadata": {
    "_cell_guid": "b1076dfc-b9ad-4769-8c92-a6c4dae69d19",
    "_uuid": "8f2839f25d086af736a60e9eeb907d3b93b6e0e5",
    "execution": {
     "iopub.execute_input": "2022-10-09T22:50:19.330166Z",
     "iopub.status.busy": "2022-10-09T22:50:19.329380Z",
     "iopub.status.idle": "2022-10-09T22:50:19.340172Z",
     "shell.execute_reply": "2022-10-09T22:50:19.339469Z"
    },
    "papermill": {
     "duration": 0.018643,
     "end_time": "2022-10-09T22:50:19.342407",
     "exception": false,
     "start_time": "2022-10-09T22:50:19.323764",
     "status": "completed"
    },
    "tags": []
   },
   "outputs": [],
   "source": [
    "import numpy as np # linear algebra\n",
    "import pandas as pd # data processing, CSV file I/O (e.g. pd.read_csv)\n",
    "import matplotlib.pyplot as plt\n",
    "%matplotlib inline"
   ]
  },
  {
   "cell_type": "code",
   "execution_count": 2,
   "id": "d540c40d",
   "metadata": {
    "execution": {
     "iopub.execute_input": "2022-10-09T22:50:19.350529Z",
     "iopub.status.busy": "2022-10-09T22:50:19.349544Z",
     "iopub.status.idle": "2022-10-09T22:50:19.380832Z",
     "shell.execute_reply": "2022-10-09T22:50:19.379299Z"
    },
    "papermill": {
     "duration": 0.037842,
     "end_time": "2022-10-09T22:50:19.383491",
     "exception": false,
     "start_time": "2022-10-09T22:50:19.345649",
     "status": "completed"
    },
    "tags": []
   },
   "outputs": [],
   "source": [
    "train = pd.read_csv('../input/titanic/train.csv')\n",
    "test = pd.read_csv('../input/titanic/test.csv')"
   ]
  },
  {
   "cell_type": "code",
   "execution_count": 3,
   "id": "7dc27c55",
   "metadata": {
    "execution": {
     "iopub.execute_input": "2022-10-09T22:50:19.390850Z",
     "iopub.status.busy": "2022-10-09T22:50:19.390437Z",
     "iopub.status.idle": "2022-10-09T22:50:19.418229Z",
     "shell.execute_reply": "2022-10-09T22:50:19.416900Z"
    },
    "papermill": {
     "duration": 0.034455,
     "end_time": "2022-10-09T22:50:19.420925",
     "exception": false,
     "start_time": "2022-10-09T22:50:19.386470",
     "status": "completed"
    },
    "tags": []
   },
   "outputs": [
    {
     "data": {
      "text/html": [
       "<div>\n",
       "<style scoped>\n",
       "    .dataframe tbody tr th:only-of-type {\n",
       "        vertical-align: middle;\n",
       "    }\n",
       "\n",
       "    .dataframe tbody tr th {\n",
       "        vertical-align: top;\n",
       "    }\n",
       "\n",
       "    .dataframe thead th {\n",
       "        text-align: right;\n",
       "    }\n",
       "</style>\n",
       "<table border=\"1\" class=\"dataframe\">\n",
       "  <thead>\n",
       "    <tr style=\"text-align: right;\">\n",
       "      <th></th>\n",
       "      <th>PassengerId</th>\n",
       "      <th>Survived</th>\n",
       "      <th>Pclass</th>\n",
       "      <th>Name</th>\n",
       "      <th>Sex</th>\n",
       "      <th>Age</th>\n",
       "      <th>SibSp</th>\n",
       "      <th>Parch</th>\n",
       "      <th>Ticket</th>\n",
       "      <th>Fare</th>\n",
       "      <th>Cabin</th>\n",
       "      <th>Embarked</th>\n",
       "    </tr>\n",
       "  </thead>\n",
       "  <tbody>\n",
       "    <tr>\n",
       "      <th>0</th>\n",
       "      <td>1</td>\n",
       "      <td>0</td>\n",
       "      <td>3</td>\n",
       "      <td>Braund, Mr. Owen Harris</td>\n",
       "      <td>male</td>\n",
       "      <td>22.0</td>\n",
       "      <td>1</td>\n",
       "      <td>0</td>\n",
       "      <td>A/5 21171</td>\n",
       "      <td>7.2500</td>\n",
       "      <td>NaN</td>\n",
       "      <td>S</td>\n",
       "    </tr>\n",
       "    <tr>\n",
       "      <th>1</th>\n",
       "      <td>2</td>\n",
       "      <td>1</td>\n",
       "      <td>1</td>\n",
       "      <td>Cumings, Mrs. John Bradley (Florence Briggs Th...</td>\n",
       "      <td>female</td>\n",
       "      <td>38.0</td>\n",
       "      <td>1</td>\n",
       "      <td>0</td>\n",
       "      <td>PC 17599</td>\n",
       "      <td>71.2833</td>\n",
       "      <td>C85</td>\n",
       "      <td>C</td>\n",
       "    </tr>\n",
       "    <tr>\n",
       "      <th>2</th>\n",
       "      <td>3</td>\n",
       "      <td>1</td>\n",
       "      <td>3</td>\n",
       "      <td>Heikkinen, Miss. Laina</td>\n",
       "      <td>female</td>\n",
       "      <td>26.0</td>\n",
       "      <td>0</td>\n",
       "      <td>0</td>\n",
       "      <td>STON/O2. 3101282</td>\n",
       "      <td>7.9250</td>\n",
       "      <td>NaN</td>\n",
       "      <td>S</td>\n",
       "    </tr>\n",
       "    <tr>\n",
       "      <th>3</th>\n",
       "      <td>4</td>\n",
       "      <td>1</td>\n",
       "      <td>1</td>\n",
       "      <td>Futrelle, Mrs. Jacques Heath (Lily May Peel)</td>\n",
       "      <td>female</td>\n",
       "      <td>35.0</td>\n",
       "      <td>1</td>\n",
       "      <td>0</td>\n",
       "      <td>113803</td>\n",
       "      <td>53.1000</td>\n",
       "      <td>C123</td>\n",
       "      <td>S</td>\n",
       "    </tr>\n",
       "    <tr>\n",
       "      <th>4</th>\n",
       "      <td>5</td>\n",
       "      <td>0</td>\n",
       "      <td>3</td>\n",
       "      <td>Allen, Mr. William Henry</td>\n",
       "      <td>male</td>\n",
       "      <td>35.0</td>\n",
       "      <td>0</td>\n",
       "      <td>0</td>\n",
       "      <td>373450</td>\n",
       "      <td>8.0500</td>\n",
       "      <td>NaN</td>\n",
       "      <td>S</td>\n",
       "    </tr>\n",
       "  </tbody>\n",
       "</table>\n",
       "</div>"
      ],
      "text/plain": [
       "   PassengerId  Survived  Pclass  \\\n",
       "0            1         0       3   \n",
       "1            2         1       1   \n",
       "2            3         1       3   \n",
       "3            4         1       1   \n",
       "4            5         0       3   \n",
       "\n",
       "                                                Name     Sex   Age  SibSp  \\\n",
       "0                            Braund, Mr. Owen Harris    male  22.0      1   \n",
       "1  Cumings, Mrs. John Bradley (Florence Briggs Th...  female  38.0      1   \n",
       "2                             Heikkinen, Miss. Laina  female  26.0      0   \n",
       "3       Futrelle, Mrs. Jacques Heath (Lily May Peel)  female  35.0      1   \n",
       "4                           Allen, Mr. William Henry    male  35.0      0   \n",
       "\n",
       "   Parch            Ticket     Fare Cabin Embarked  \n",
       "0      0         A/5 21171   7.2500   NaN        S  \n",
       "1      0          PC 17599  71.2833   C85        C  \n",
       "2      0  STON/O2. 3101282   7.9250   NaN        S  \n",
       "3      0            113803  53.1000  C123        S  \n",
       "4      0            373450   8.0500   NaN        S  "
      ]
     },
     "execution_count": 3,
     "metadata": {},
     "output_type": "execute_result"
    }
   ],
   "source": [
    "train.head()"
   ]
  },
  {
   "cell_type": "code",
   "execution_count": 4,
   "id": "c165de1e",
   "metadata": {
    "execution": {
     "iopub.execute_input": "2022-10-09T22:50:19.428840Z",
     "iopub.status.busy": "2022-10-09T22:50:19.428452Z",
     "iopub.status.idle": "2022-10-09T22:50:19.449022Z",
     "shell.execute_reply": "2022-10-09T22:50:19.448257Z"
    },
    "papermill": {
     "duration": 0.026717,
     "end_time": "2022-10-09T22:50:19.450826",
     "exception": false,
     "start_time": "2022-10-09T22:50:19.424109",
     "status": "completed"
    },
    "tags": []
   },
   "outputs": [
    {
     "data": {
      "text/html": [
       "<div>\n",
       "<style scoped>\n",
       "    .dataframe tbody tr th:only-of-type {\n",
       "        vertical-align: middle;\n",
       "    }\n",
       "\n",
       "    .dataframe tbody tr th {\n",
       "        vertical-align: top;\n",
       "    }\n",
       "\n",
       "    .dataframe thead th {\n",
       "        text-align: right;\n",
       "    }\n",
       "</style>\n",
       "<table border=\"1\" class=\"dataframe\">\n",
       "  <thead>\n",
       "    <tr style=\"text-align: right;\">\n",
       "      <th></th>\n",
       "      <th>PassengerId</th>\n",
       "      <th>Survived</th>\n",
       "      <th>Pclass</th>\n",
       "      <th>Age</th>\n",
       "      <th>SibSp</th>\n",
       "      <th>Parch</th>\n",
       "      <th>Fare</th>\n",
       "    </tr>\n",
       "  </thead>\n",
       "  <tbody>\n",
       "    <tr>\n",
       "      <th>886</th>\n",
       "      <td>887</td>\n",
       "      <td>0</td>\n",
       "      <td>2</td>\n",
       "      <td>27.0</td>\n",
       "      <td>0</td>\n",
       "      <td>0</td>\n",
       "      <td>13.00</td>\n",
       "    </tr>\n",
       "    <tr>\n",
       "      <th>887</th>\n",
       "      <td>888</td>\n",
       "      <td>1</td>\n",
       "      <td>1</td>\n",
       "      <td>19.0</td>\n",
       "      <td>0</td>\n",
       "      <td>0</td>\n",
       "      <td>30.00</td>\n",
       "    </tr>\n",
       "    <tr>\n",
       "      <th>888</th>\n",
       "      <td>889</td>\n",
       "      <td>0</td>\n",
       "      <td>3</td>\n",
       "      <td>NaN</td>\n",
       "      <td>1</td>\n",
       "      <td>2</td>\n",
       "      <td>23.45</td>\n",
       "    </tr>\n",
       "    <tr>\n",
       "      <th>889</th>\n",
       "      <td>890</td>\n",
       "      <td>1</td>\n",
       "      <td>1</td>\n",
       "      <td>26.0</td>\n",
       "      <td>0</td>\n",
       "      <td>0</td>\n",
       "      <td>30.00</td>\n",
       "    </tr>\n",
       "    <tr>\n",
       "      <th>890</th>\n",
       "      <td>891</td>\n",
       "      <td>0</td>\n",
       "      <td>3</td>\n",
       "      <td>32.0</td>\n",
       "      <td>0</td>\n",
       "      <td>0</td>\n",
       "      <td>7.75</td>\n",
       "    </tr>\n",
       "  </tbody>\n",
       "</table>\n",
       "</div>"
      ],
      "text/plain": [
       "     PassengerId  Survived  Pclass   Age  SibSp  Parch   Fare\n",
       "886          887         0       2  27.0      0      0  13.00\n",
       "887          888         1       1  19.0      0      0  30.00\n",
       "888          889         0       3   NaN      1      2  23.45\n",
       "889          890         1       1  26.0      0      0  30.00\n",
       "890          891         0       3  32.0      0      0   7.75"
      ]
     },
     "execution_count": 4,
     "metadata": {},
     "output_type": "execute_result"
    }
   ],
   "source": [
    "feature_numeric = train.select_dtypes(include=['int64','float64'])\n",
    "feature_numeric.tail()"
   ]
  },
  {
   "cell_type": "markdown",
   "id": "a22ef6e6",
   "metadata": {
    "papermill": {
     "duration": 0.002905,
     "end_time": "2022-10-09T22:50:19.457043",
     "exception": false,
     "start_time": "2022-10-09T22:50:19.454138",
     "status": "completed"
    },
    "tags": []
   },
   "source": [
    "# **Discret values¶**"
   ]
  },
  {
   "cell_type": "code",
   "execution_count": 5,
   "id": "2abb2c9a",
   "metadata": {
    "execution": {
     "iopub.execute_input": "2022-10-09T22:50:19.464706Z",
     "iopub.status.busy": "2022-10-09T22:50:19.464328Z",
     "iopub.status.idle": "2022-10-09T22:50:19.478899Z",
     "shell.execute_reply": "2022-10-09T22:50:19.478184Z"
    },
    "papermill": {
     "duration": 0.020493,
     "end_time": "2022-10-09T22:50:19.480556",
     "exception": false,
     "start_time": "2022-10-09T22:50:19.460063",
     "status": "completed"
    },
    "tags": []
   },
   "outputs": [
    {
     "data": {
      "text/plain": [
       "['Survived', 'Pclass', 'SibSp', 'Parch']"
      ]
     },
     "execution_count": 5,
     "metadata": {},
     "output_type": "execute_result"
    }
   ],
   "source": [
    "discret_feature = [i for i in feature_numeric.columns if len(feature_numeric[i].unique())<20 and i not in ['PassengerId']]\n",
    "discret_feature"
   ]
  },
  {
   "cell_type": "markdown",
   "id": "3254a3d7",
   "metadata": {
    "papermill": {
     "duration": 0.003183,
     "end_time": "2022-10-09T22:50:19.487317",
     "exception": false,
     "start_time": "2022-10-09T22:50:19.484134",
     "status": "completed"
    },
    "tags": []
   },
   "source": [
    "**The bar chart's purpose is to have a clear vision between survived people and discret feature.**"
   ]
  },
  {
   "cell_type": "code",
   "execution_count": 6,
   "id": "0929e593",
   "metadata": {
    "execution": {
     "iopub.execute_input": "2022-10-09T22:50:19.496287Z",
     "iopub.status.busy": "2022-10-09T22:50:19.495062Z",
     "iopub.status.idle": "2022-10-09T22:50:20.061428Z",
     "shell.execute_reply": "2022-10-09T22:50:20.060642Z"
    },
    "papermill": {
     "duration": 0.573118,
     "end_time": "2022-10-09T22:50:20.063676",
     "exception": false,
     "start_time": "2022-10-09T22:50:19.490558",
     "status": "completed"
    },
    "tags": []
   },
   "outputs": [
    {
     "data": {
      "image/png": "[encoded data removed]",
      "text/plain": [
       "<Figure size 432x288 with 1 Axes>"
      ]
     },
     "metadata": {
      "needs_background": "light"
     },
     "output_type": "display_data"
    },
    {
     "data": {
      "image/png": "[encoded data removed]",
      "text/plain": [
       "<Figure size 432x288 with 1 Axes>"
      ]
     },
     "metadata": {
      "needs_background": "light"
     },
     "output_type": "display_data"
    },
    {
     "data": {
      "image/png": "[encoded data removed]",
      "text/plain": [
       "<Figure size 432x288 with 1 Axes>"
      ]
     },
     "metadata": {
      "needs_background": "light"
     },
     "output_type": "display_data"
    },
    {
     "data": {
      "image/png": "[encoded data removed]",
      "text/plain": [
       "<Figure size 432x288 with 1 Axes>"
      ]
     },
     "metadata": {
      "needs_background": "light"
     },
     "output_type": "display_data"
    }
   ],
   "source": [
    "for i in discret_feature :\n",
    "    data = feature_numeric.copy()\n",
    "    data.groupby(i)['Survived'].sum().plot.bar()\n",
    "    plt.xlabel(i)\n",
    "    plt.ylabel('survival')\n",
    "    plt.show()"
   ]
  },
  {
   "cell_type": "markdown",
   "id": "aa5c2496",
   "metadata": {
    "papermill": {
     "duration": 0.004921,
     "end_time": "2022-10-09T22:50:20.074253",
     "exception": false,
     "start_time": "2022-10-09T22:50:20.069332",
     "status": "completed"
    },
    "tags": []
   },
   "source": [
    "# **Continuous features**"
   ]
  },
  {
   "cell_type": "code",
   "execution_count": 7,
   "id": "f8b599dc",
   "metadata": {
    "execution": {
     "iopub.execute_input": "2022-10-09T22:50:20.086074Z",
     "iopub.status.busy": "2022-10-09T22:50:20.085498Z",
     "iopub.status.idle": "2022-10-09T22:50:20.091814Z",
     "shell.execute_reply": "2022-10-09T22:50:20.090454Z"
    },
    "papermill": {
     "duration": 0.01517,
     "end_time": "2022-10-09T22:50:20.094678",
     "exception": false,
     "start_time": "2022-10-09T22:50:20.079508",
     "status": "completed"
    },
    "tags": []
   },
   "outputs": [
    {
     "data": {
      "text/plain": [
       "['Age', 'Fare']"
      ]
     },
     "execution_count": 7,
     "metadata": {},
     "output_type": "execute_result"
    }
   ],
   "source": [
    "con_features = [i for i in feature_numeric.columns if i not in discret_feature+['PassengerId']]\n",
    "con_features"
   ]
  },
  {
   "cell_type": "code",
   "execution_count": 8,
   "id": "c846308d",
   "metadata": {
    "execution": {
     "iopub.execute_input": "2022-10-09T22:50:20.105183Z",
     "iopub.status.busy": "2022-10-09T22:50:20.104581Z",
     "iopub.status.idle": "2022-10-09T22:50:20.427827Z",
     "shell.execute_reply": "2022-10-09T22:50:20.426659Z"
    },
    "papermill": {
     "duration": 0.330798,
     "end_time": "2022-10-09T22:50:20.429899",
     "exception": false,
     "start_time": "2022-10-09T22:50:20.099101",
     "status": "completed"
    },
    "tags": []
   },
   "outputs": [
    {
     "data": {
      "image/png": "[encoded data removed]",
      "text/plain": [
       "<Figure size 432x288 with 1 Axes>"
      ]
     },
     "metadata": {
      "needs_background": "light"
     },
     "output_type": "display_data"
    },
    {
     "data": {
      "image/png": "[encoded data removed]",
      "text/plain": [
       "<Figure size 432x288 with 1 Axes>"
      ]
     },
     "metadata": {
      "needs_background": "light"
     },
     "output_type": "display_data"
    }
   ],
   "source": [
    "for i in con_features :\n",
    "    data = feature_numeric.copy()\n",
    "    data.groupby('Survived')[i].mean().plot.bar()\n",
    "    plt.xlabel('survived')\n",
    "    plt.ylabel(i)\n",
    "    plt.show()"
   ]
  }
 ],
 "metadata": {
  "kernelspec": {
   "display_name": "Python 3",
   "language": "python",
   "name": "python3"
  },
  "language_info": {
   "codemirror_mode": {
    "name": "ipython",
    "version": 3
   },
   "file_extension": ".py",
   "mimetype": "text/x-python",
   "name": "python",
   "nbconvert_exporter": "python",
   "pygments_lexer": "ipython3",
   "version": "3.7.12"
  },
  "papermill": {
   "default_parameters": {},
   "duration": 10.041203,
   "end_time": "2022-10-09T22:50:21.056914",
   "environment_variables": {},
   "exception": null,
   "input_path": "__notebook__.ipynb",
   "output_path": "__notebook__.ipynb",
   "parameters": {},
   "start_time": "2022-10-09T22:50:11.015711",
   "version": "2.3.4"
  }
 },
 "nbformat": 4,
 "nbformat_minor": 5
}
