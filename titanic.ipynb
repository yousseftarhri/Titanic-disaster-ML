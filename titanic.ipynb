{
 "cells": [
  {
   "cell_type": "code",
   "execution_count": 1,
   "id": "b5f7d8af",
   "metadata": {
    "_cell_guid": "b1076dfc-b9ad-4769-8c92-a6c4dae69d19",
    "_uuid": "8f2839f25d086af736a60e9eeb907d3b93b6e0e5",
    "execution": {
     "iopub.execute_input": "2022-10-26T20:24:49.508890Z",
     "iopub.status.busy": "2022-10-26T20:24:49.508366Z",
     "iopub.status.idle": "2022-10-26T20:24:49.521342Z",
     "shell.execute_reply": "2022-10-26T20:24:49.520019Z"
    },
    "papermill": {
     "duration": 0.026767,
     "end_time": "2022-10-26T20:24:49.524503",
     "exception": false,
     "start_time": "2022-10-26T20:24:49.497736",
     "status": "completed"
    },
    "tags": []
   },
   "outputs": [],
   "source": [
    "import numpy as np # linear algebra\n",
    "import pandas as pd # data processing, CSV file I/O (e.g. pd.read_csv)\n",
    "import matplotlib.pyplot as plt\n",
    "%matplotlib inline"
   ]
  },
  {
   "cell_type": "code",
   "execution_count": 2,
   "id": "3884ae49",
   "metadata": {
    "execution": {
     "iopub.execute_input": "2022-10-26T20:24:49.541596Z",
     "iopub.status.busy": "2022-10-26T20:24:49.540378Z",
     "iopub.status.idle": "2022-10-26T20:24:49.573581Z",
     "shell.execute_reply": "2022-10-26T20:24:49.572288Z"
    },
    "papermill": {
     "duration": 0.044817,
     "end_time": "2022-10-26T20:24:49.576633",
     "exception": false,
     "start_time": "2022-10-26T20:24:49.531816",
     "status": "completed"
    },
    "tags": []
   },
   "outputs": [],
   "source": [
    "train = pd.read_csv('../input/titanic/train.csv')\n",
    "test = pd.read_csv('../input/titanic/test.csv')"
   ]
  },
  {
   "cell_type": "code",
   "execution_count": 3,
   "id": "1874f558",
   "metadata": {
    "execution": {
     "iopub.execute_input": "2022-10-26T20:24:49.592627Z",
     "iopub.status.busy": "2022-10-26T20:24:49.592125Z",
     "iopub.status.idle": "2022-10-26T20:24:49.628032Z",
     "shell.execute_reply": "2022-10-26T20:24:49.626482Z"
    },
    "papermill": {
     "duration": 0.047199,
     "end_time": "2022-10-26T20:24:49.630786",
     "exception": false,
     "start_time": "2022-10-26T20:24:49.583587",
     "status": "completed"
    },
    "tags": []
   },
   "outputs": [
    {
     "data": {
      "text/html": [
       "<div>\n",
       "<style scoped>\n",
       "    .dataframe tbody tr th:only-of-type {\n",
       "        vertical-align: middle;\n",
       "    }\n",
       "\n",
       "    .dataframe tbody tr th {\n",
       "        vertical-align: top;\n",
       "    }\n",
       "\n",
       "    .dataframe thead th {\n",
       "        text-align: right;\n",
       "    }\n",
       "</style>\n",
       "<table border=\"1\" class=\"dataframe\">\n",
       "  <thead>\n",
       "    <tr style=\"text-align: right;\">\n",
       "      <th></th>\n",
       "      <th>PassengerId</th>\n",
       "      <th>Pclass</th>\n",
       "      <th>Name</th>\n",
       "      <th>Sex</th>\n",
       "      <th>Age</th>\n",
       "      <th>SibSp</th>\n",
       "      <th>Parch</th>\n",
       "      <th>Ticket</th>\n",
       "      <th>Fare</th>\n",
       "      <th>Cabin</th>\n",
       "      <th>Embarked</th>\n",
       "    </tr>\n",
       "  </thead>\n",
       "  <tbody>\n",
       "    <tr>\n",
       "      <th>413</th>\n",
       "      <td>1305</td>\n",
       "      <td>3</td>\n",
       "      <td>Spector, Mr. Woolf</td>\n",
       "      <td>male</td>\n",
       "      <td>NaN</td>\n",
       "      <td>0</td>\n",
       "      <td>0</td>\n",
       "      <td>A.5. 3236</td>\n",
       "      <td>8.0500</td>\n",
       "      <td>NaN</td>\n",
       "      <td>S</td>\n",
       "    </tr>\n",
       "    <tr>\n",
       "      <th>414</th>\n",
       "      <td>1306</td>\n",
       "      <td>1</td>\n",
       "      <td>Oliva y Ocana, Dona. Fermina</td>\n",
       "      <td>female</td>\n",
       "      <td>39.0</td>\n",
       "      <td>0</td>\n",
       "      <td>0</td>\n",
       "      <td>PC 17758</td>\n",
       "      <td>108.9000</td>\n",
       "      <td>C105</td>\n",
       "      <td>C</td>\n",
       "    </tr>\n",
       "    <tr>\n",
       "      <th>415</th>\n",
       "      <td>1307</td>\n",
       "      <td>3</td>\n",
       "      <td>Saether, Mr. Simon Sivertsen</td>\n",
       "      <td>male</td>\n",
       "      <td>38.5</td>\n",
       "      <td>0</td>\n",
       "      <td>0</td>\n",
       "      <td>SOTON/O.Q. 3101262</td>\n",
       "      <td>7.2500</td>\n",
       "      <td>NaN</td>\n",
       "      <td>S</td>\n",
       "    </tr>\n",
       "    <tr>\n",
       "      <th>416</th>\n",
       "      <td>1308</td>\n",
       "      <td>3</td>\n",
       "      <td>Ware, Mr. Frederick</td>\n",
       "      <td>male</td>\n",
       "      <td>NaN</td>\n",
       "      <td>0</td>\n",
       "      <td>0</td>\n",
       "      <td>359309</td>\n",
       "      <td>8.0500</td>\n",
       "      <td>NaN</td>\n",
       "      <td>S</td>\n",
       "    </tr>\n",
       "    <tr>\n",
       "      <th>417</th>\n",
       "      <td>1309</td>\n",
       "      <td>3</td>\n",
       "      <td>Peter, Master. Michael J</td>\n",
       "      <td>male</td>\n",
       "      <td>NaN</td>\n",
       "      <td>1</td>\n",
       "      <td>1</td>\n",
       "      <td>2668</td>\n",
       "      <td>22.3583</td>\n",
       "      <td>NaN</td>\n",
       "      <td>C</td>\n",
       "    </tr>\n",
       "  </tbody>\n",
       "</table>\n",
       "</div>"
      ],
      "text/plain": [
       "     PassengerId  Pclass                          Name     Sex   Age  SibSp  \\\n",
       "413         1305       3            Spector, Mr. Woolf    male   NaN      0   \n",
       "414         1306       1  Oliva y Ocana, Dona. Fermina  female  39.0      0   \n",
       "415         1307       3  Saether, Mr. Simon Sivertsen    male  38.5      0   \n",
       "416         1308       3           Ware, Mr. Frederick    male   NaN      0   \n",
       "417         1309       3      Peter, Master. Michael J    male   NaN      1   \n",
       "\n",
       "     Parch              Ticket      Fare Cabin Embarked  \n",
       "413      0           A.5. 3236    8.0500   NaN        S  \n",
       "414      0            PC 17758  108.9000  C105        C  \n",
       "415      0  SOTON/O.Q. 3101262    7.2500   NaN        S  \n",
       "416      0              359309    8.0500   NaN        S  \n",
       "417      1                2668   22.3583   NaN        C  "
      ]
     },
     "execution_count": 3,
     "metadata": {},
     "output_type": "execute_result"
    }
   ],
   "source": [
    "test.tail()"
   ]
  },
  {
   "cell_type": "code",
   "execution_count": 4,
   "id": "e52e91ab",
   "metadata": {
    "execution": {
     "iopub.execute_input": "2022-10-26T20:24:49.647302Z",
     "iopub.status.busy": "2022-10-26T20:24:49.646813Z",
     "iopub.status.idle": "2022-10-26T20:24:49.665160Z",
     "shell.execute_reply": "2022-10-26T20:24:49.663887Z"
    },
    "papermill": {
     "duration": 0.029613,
     "end_time": "2022-10-26T20:24:49.667599",
     "exception": false,
     "start_time": "2022-10-26T20:24:49.637986",
     "status": "completed"
    },
    "tags": []
   },
   "outputs": [
    {
     "data": {
      "text/html": [
       "<div>\n",
       "<style scoped>\n",
       "    .dataframe tbody tr th:only-of-type {\n",
       "        vertical-align: middle;\n",
       "    }\n",
       "\n",
       "    .dataframe tbody tr th {\n",
       "        vertical-align: top;\n",
       "    }\n",
       "\n",
       "    .dataframe thead th {\n",
       "        text-align: right;\n",
       "    }\n",
       "</style>\n",
       "<table border=\"1\" class=\"dataframe\">\n",
       "  <thead>\n",
       "    <tr style=\"text-align: right;\">\n",
       "      <th></th>\n",
       "      <th>PassengerId</th>\n",
       "      <th>Survived</th>\n",
       "      <th>Pclass</th>\n",
       "      <th>Name</th>\n",
       "      <th>Sex</th>\n",
       "      <th>Age</th>\n",
       "      <th>SibSp</th>\n",
       "      <th>Parch</th>\n",
       "      <th>Ticket</th>\n",
       "      <th>Fare</th>\n",
       "      <th>Cabin</th>\n",
       "      <th>Embarked</th>\n",
       "    </tr>\n",
       "  </thead>\n",
       "  <tbody>\n",
       "    <tr>\n",
       "      <th>886</th>\n",
       "      <td>887</td>\n",
       "      <td>0</td>\n",
       "      <td>2</td>\n",
       "      <td>Montvila, Rev. Juozas</td>\n",
       "      <td>male</td>\n",
       "      <td>27.0</td>\n",
       "      <td>0</td>\n",
       "      <td>0</td>\n",
       "      <td>211536</td>\n",
       "      <td>13.00</td>\n",
       "      <td>NaN</td>\n",
       "      <td>S</td>\n",
       "    </tr>\n",
       "    <tr>\n",
       "      <th>887</th>\n",
       "      <td>888</td>\n",
       "      <td>1</td>\n",
       "      <td>1</td>\n",
       "      <td>Graham, Miss. Margaret Edith</td>\n",
       "      <td>female</td>\n",
       "      <td>19.0</td>\n",
       "      <td>0</td>\n",
       "      <td>0</td>\n",
       "      <td>112053</td>\n",
       "      <td>30.00</td>\n",
       "      <td>B42</td>\n",
       "      <td>S</td>\n",
       "    </tr>\n",
       "    <tr>\n",
       "      <th>888</th>\n",
       "      <td>889</td>\n",
       "      <td>0</td>\n",
       "      <td>3</td>\n",
       "      <td>Johnston, Miss. Catherine Helen \"Carrie\"</td>\n",
       "      <td>female</td>\n",
       "      <td>NaN</td>\n",
       "      <td>1</td>\n",
       "      <td>2</td>\n",
       "      <td>W./C. 6607</td>\n",
       "      <td>23.45</td>\n",
       "      <td>NaN</td>\n",
       "      <td>S</td>\n",
       "    </tr>\n",
       "    <tr>\n",
       "      <th>889</th>\n",
       "      <td>890</td>\n",
       "      <td>1</td>\n",
       "      <td>1</td>\n",
       "      <td>Behr, Mr. Karl Howell</td>\n",
       "      <td>male</td>\n",
       "      <td>26.0</td>\n",
       "      <td>0</td>\n",
       "      <td>0</td>\n",
       "      <td>111369</td>\n",
       "      <td>30.00</td>\n",
       "      <td>C148</td>\n",
       "      <td>C</td>\n",
       "    </tr>\n",
       "    <tr>\n",
       "      <th>890</th>\n",
       "      <td>891</td>\n",
       "      <td>0</td>\n",
       "      <td>3</td>\n",
       "      <td>Dooley, Mr. Patrick</td>\n",
       "      <td>male</td>\n",
       "      <td>32.0</td>\n",
       "      <td>0</td>\n",
       "      <td>0</td>\n",
       "      <td>370376</td>\n",
       "      <td>7.75</td>\n",
       "      <td>NaN</td>\n",
       "      <td>Q</td>\n",
       "    </tr>\n",
       "  </tbody>\n",
       "</table>\n",
       "</div>"
      ],
      "text/plain": [
       "     PassengerId  Survived  Pclass                                      Name  \\\n",
       "886          887         0       2                     Montvila, Rev. Juozas   \n",
       "887          888         1       1              Graham, Miss. Margaret Edith   \n",
       "888          889         0       3  Johnston, Miss. Catherine Helen \"Carrie\"   \n",
       "889          890         1       1                     Behr, Mr. Karl Howell   \n",
       "890          891         0       3                       Dooley, Mr. Patrick   \n",
       "\n",
       "        Sex   Age  SibSp  Parch      Ticket   Fare Cabin Embarked  \n",
       "886    male  27.0      0      0      211536  13.00   NaN        S  \n",
       "887  female  19.0      0      0      112053  30.00   B42        S  \n",
       "888  female   NaN      1      2  W./C. 6607  23.45   NaN        S  \n",
       "889    male  26.0      0      0      111369  30.00  C148        C  \n",
       "890    male  32.0      0      0      370376   7.75   NaN        Q  "
      ]
     },
     "execution_count": 4,
     "metadata": {},
     "output_type": "execute_result"
    }
   ],
   "source": [
    "train.tail()"
   ]
  },
  {
   "cell_type": "code",
   "execution_count": 5,
   "id": "9aebce85",
   "metadata": {
    "execution": {
     "iopub.execute_input": "2022-10-26T20:24:49.684549Z",
     "iopub.status.busy": "2022-10-26T20:24:49.684091Z",
     "iopub.status.idle": "2022-10-26T20:24:49.699147Z",
     "shell.execute_reply": "2022-10-26T20:24:49.698026Z"
    },
    "papermill": {
     "duration": 0.026451,
     "end_time": "2022-10-26T20:24:49.701387",
     "exception": false,
     "start_time": "2022-10-26T20:24:49.674936",
     "status": "completed"
    },
    "tags": []
   },
   "outputs": [
    {
     "data": {
      "text/plain": [
       "['Age', 'Cabin', 'Embarked']"
      ]
     },
     "execution_count": 5,
     "metadata": {},
     "output_type": "execute_result"
    }
   ],
   "source": [
    "feature_na = [i for i in train.columns if train[i].isnull().sum()>1]\n",
    "feature_na"
   ]
  },
  {
   "cell_type": "code",
   "execution_count": 6,
   "id": "af52067e",
   "metadata": {
    "execution": {
     "iopub.execute_input": "2022-10-26T20:24:49.718915Z",
     "iopub.status.busy": "2022-10-26T20:24:49.718061Z",
     "iopub.status.idle": "2022-10-26T20:24:49.727417Z",
     "shell.execute_reply": "2022-10-26T20:24:49.726258Z"
    },
    "papermill": {
     "duration": 0.021532,
     "end_time": "2022-10-26T20:24:49.730252",
     "exception": false,
     "start_time": "2022-10-26T20:24:49.708720",
     "status": "completed"
    },
    "tags": []
   },
   "outputs": [
    {
     "name": "stdout",
     "output_type": "stream",
     "text": [
      "Age 0.21 % missing values\n",
      "Cabin 0.78 % missing values\n",
      "Embarked 0.0 % missing values\n"
     ]
    }
   ],
   "source": [
    "for i in feature_na: \n",
    "    x= np.round(test[i].isnull().mean(),2)\n",
    "    print(i,  x,'% missing values')"
   ]
  },
  {
   "cell_type": "code",
   "execution_count": 7,
   "id": "ea6564b7",
   "metadata": {
    "execution": {
     "iopub.execute_input": "2022-10-26T20:24:49.747746Z",
     "iopub.status.busy": "2022-10-26T20:24:49.747232Z",
     "iopub.status.idle": "2022-10-26T20:24:49.753773Z",
     "shell.execute_reply": "2022-10-26T20:24:49.752535Z"
    },
    "papermill": {
     "duration": 0.018598,
     "end_time": "2022-10-26T20:24:49.756507",
     "exception": false,
     "start_time": "2022-10-26T20:24:49.737909",
     "status": "completed"
    },
    "tags": []
   },
   "outputs": [],
   "source": [
    "def conv(df) :\n",
    "    em = {'S': 1,'C': 2,'Q': 3,np.nan:np.nan}\n",
    "    sex = {'male':1,\"female\":2}\n",
    "    df[\"Embarked\"] = df.Embarked.map(em)\n",
    "    df[\"Sex\"] = df.Sex.map(sex)\n",
    "    return df"
   ]
  },
  {
   "cell_type": "code",
   "execution_count": 8,
   "id": "bcbe63ff",
   "metadata": {
    "execution": {
     "iopub.execute_input": "2022-10-26T20:24:49.773914Z",
     "iopub.status.busy": "2022-10-26T20:24:49.773421Z",
     "iopub.status.idle": "2022-10-26T20:24:49.787468Z",
     "shell.execute_reply": "2022-10-26T20:24:49.786525Z"
    },
    "papermill": {
     "duration": 0.025718,
     "end_time": "2022-10-26T20:24:49.789782",
     "exception": false,
     "start_time": "2022-10-26T20:24:49.764064",
     "status": "completed"
    },
    "tags": []
   },
   "outputs": [],
   "source": [
    "train = conv(train)\n",
    "test = conv(test)"
   ]
  },
  {
   "cell_type": "code",
   "execution_count": 9,
   "id": "0be813be",
   "metadata": {
    "execution": {
     "iopub.execute_input": "2022-10-26T20:24:49.808424Z",
     "iopub.status.busy": "2022-10-26T20:24:49.807910Z",
     "iopub.status.idle": "2022-10-26T20:24:49.814930Z",
     "shell.execute_reply": "2022-10-26T20:24:49.813720Z"
    },
    "papermill": {
     "duration": 0.018547,
     "end_time": "2022-10-26T20:24:49.817235",
     "exception": false,
     "start_time": "2022-10-26T20:24:49.798688",
     "status": "completed"
    },
    "tags": []
   },
   "outputs": [],
   "source": [
    "def cleaning_data(df) :\n",
    "    data = df.drop(['Cabin'], axis=1)\n",
    "    mean_value_age = np.round(data['Age'].mean(),2)\n",
    "    mean_value_e = np.round(data['Embarked'].mean(),0 )\n",
    "    data['Age'] = data['Age'].fillna(value=mean_value_age,inplace=False)\n",
    "    data['Embarked'] = data['Embarked'].fillna(value=mean_value_e , inplace=False)\n",
    "\n",
    "    return data"
   ]
  },
  {
   "cell_type": "markdown",
   "id": "b00bccc1",
   "metadata": {
    "papermill": {
     "duration": 0.007405,
     "end_time": "2022-10-26T20:24:49.832488",
     "exception": false,
     "start_time": "2022-10-26T20:24:49.825083",
     "status": "completed"
    },
    "tags": []
   },
   "source": [
    "# Numerical Variable"
   ]
  },
  {
   "cell_type": "code",
   "execution_count": 10,
   "id": "df682b4d",
   "metadata": {
    "execution": {
     "iopub.execute_input": "2022-10-26T20:24:49.849989Z",
     "iopub.status.busy": "2022-10-26T20:24:49.849516Z",
     "iopub.status.idle": "2022-10-26T20:24:49.871554Z",
     "shell.execute_reply": "2022-10-26T20:24:49.870357Z"
    },
    "papermill": {
     "duration": 0.034055,
     "end_time": "2022-10-26T20:24:49.874161",
     "exception": false,
     "start_time": "2022-10-26T20:24:49.840106",
     "status": "completed"
    },
    "tags": []
   },
   "outputs": [
    {
     "data": {
      "text/html": [
       "<div>\n",
       "<style scoped>\n",
       "    .dataframe tbody tr th:only-of-type {\n",
       "        vertical-align: middle;\n",
       "    }\n",
       "\n",
       "    .dataframe tbody tr th {\n",
       "        vertical-align: top;\n",
       "    }\n",
       "\n",
       "    .dataframe thead th {\n",
       "        text-align: right;\n",
       "    }\n",
       "</style>\n",
       "<table border=\"1\" class=\"dataframe\">\n",
       "  <thead>\n",
       "    <tr style=\"text-align: right;\">\n",
       "      <th></th>\n",
       "      <th>PassengerId</th>\n",
       "      <th>Survived</th>\n",
       "      <th>Pclass</th>\n",
       "      <th>Sex</th>\n",
       "      <th>Age</th>\n",
       "      <th>SibSp</th>\n",
       "      <th>Parch</th>\n",
       "      <th>Fare</th>\n",
       "      <th>Embarked</th>\n",
       "    </tr>\n",
       "  </thead>\n",
       "  <tbody>\n",
       "    <tr>\n",
       "      <th>886</th>\n",
       "      <td>887</td>\n",
       "      <td>0</td>\n",
       "      <td>2</td>\n",
       "      <td>1</td>\n",
       "      <td>27.0</td>\n",
       "      <td>0</td>\n",
       "      <td>0</td>\n",
       "      <td>13.00</td>\n",
       "      <td>1.0</td>\n",
       "    </tr>\n",
       "    <tr>\n",
       "      <th>887</th>\n",
       "      <td>888</td>\n",
       "      <td>1</td>\n",
       "      <td>1</td>\n",
       "      <td>2</td>\n",
       "      <td>19.0</td>\n",
       "      <td>0</td>\n",
       "      <td>0</td>\n",
       "      <td>30.00</td>\n",
       "      <td>1.0</td>\n",
       "    </tr>\n",
       "    <tr>\n",
       "      <th>888</th>\n",
       "      <td>889</td>\n",
       "      <td>0</td>\n",
       "      <td>3</td>\n",
       "      <td>2</td>\n",
       "      <td>NaN</td>\n",
       "      <td>1</td>\n",
       "      <td>2</td>\n",
       "      <td>23.45</td>\n",
       "      <td>1.0</td>\n",
       "    </tr>\n",
       "    <tr>\n",
       "      <th>889</th>\n",
       "      <td>890</td>\n",
       "      <td>1</td>\n",
       "      <td>1</td>\n",
       "      <td>1</td>\n",
       "      <td>26.0</td>\n",
       "      <td>0</td>\n",
       "      <td>0</td>\n",
       "      <td>30.00</td>\n",
       "      <td>2.0</td>\n",
       "    </tr>\n",
       "    <tr>\n",
       "      <th>890</th>\n",
       "      <td>891</td>\n",
       "      <td>0</td>\n",
       "      <td>3</td>\n",
       "      <td>1</td>\n",
       "      <td>32.0</td>\n",
       "      <td>0</td>\n",
       "      <td>0</td>\n",
       "      <td>7.75</td>\n",
       "      <td>3.0</td>\n",
       "    </tr>\n",
       "  </tbody>\n",
       "</table>\n",
       "</div>"
      ],
      "text/plain": [
       "     PassengerId  Survived  Pclass  Sex   Age  SibSp  Parch   Fare  Embarked\n",
       "886          887         0       2    1  27.0      0      0  13.00       1.0\n",
       "887          888         1       1    2  19.0      0      0  30.00       1.0\n",
       "888          889         0       3    2   NaN      1      2  23.45       1.0\n",
       "889          890         1       1    1  26.0      0      0  30.00       2.0\n",
       "890          891         0       3    1  32.0      0      0   7.75       3.0"
      ]
     },
     "execution_count": 10,
     "metadata": {},
     "output_type": "execute_result"
    }
   ],
   "source": [
    "feature_numeric = train.select_dtypes(include=['int64','float64'])\n",
    "feature_numeric.tail()"
   ]
  },
  {
   "cell_type": "code",
   "execution_count": 11,
   "id": "b6fd36c1",
   "metadata": {
    "execution": {
     "iopub.execute_input": "2022-10-26T20:24:49.892418Z",
     "iopub.status.busy": "2022-10-26T20:24:49.891989Z",
     "iopub.status.idle": "2022-10-26T20:24:49.908642Z",
     "shell.execute_reply": "2022-10-26T20:24:49.907334Z"
    },
    "papermill": {
     "duration": 0.028783,
     "end_time": "2022-10-26T20:24:49.911170",
     "exception": false,
     "start_time": "2022-10-26T20:24:49.882387",
     "status": "completed"
    },
    "tags": []
   },
   "outputs": [
    {
     "data": {
      "text/html": [
       "<div>\n",
       "<style scoped>\n",
       "    .dataframe tbody tr th:only-of-type {\n",
       "        vertical-align: middle;\n",
       "    }\n",
       "\n",
       "    .dataframe tbody tr th {\n",
       "        vertical-align: top;\n",
       "    }\n",
       "\n",
       "    .dataframe thead th {\n",
       "        text-align: right;\n",
       "    }\n",
       "</style>\n",
       "<table border=\"1\" class=\"dataframe\">\n",
       "  <thead>\n",
       "    <tr style=\"text-align: right;\">\n",
       "      <th></th>\n",
       "      <th>Pclass</th>\n",
       "      <th>Age</th>\n",
       "      <th>SibSp</th>\n",
       "      <th>Parch</th>\n",
       "      <th>Fare</th>\n",
       "    </tr>\n",
       "  </thead>\n",
       "  <tbody>\n",
       "    <tr>\n",
       "      <th>413</th>\n",
       "      <td>3</td>\n",
       "      <td>NaN</td>\n",
       "      <td>0</td>\n",
       "      <td>0</td>\n",
       "      <td>8.0500</td>\n",
       "    </tr>\n",
       "    <tr>\n",
       "      <th>414</th>\n",
       "      <td>1</td>\n",
       "      <td>39.0</td>\n",
       "      <td>0</td>\n",
       "      <td>0</td>\n",
       "      <td>108.9000</td>\n",
       "    </tr>\n",
       "    <tr>\n",
       "      <th>415</th>\n",
       "      <td>3</td>\n",
       "      <td>38.5</td>\n",
       "      <td>0</td>\n",
       "      <td>0</td>\n",
       "      <td>7.2500</td>\n",
       "    </tr>\n",
       "    <tr>\n",
       "      <th>416</th>\n",
       "      <td>3</td>\n",
       "      <td>NaN</td>\n",
       "      <td>0</td>\n",
       "      <td>0</td>\n",
       "      <td>8.0500</td>\n",
       "    </tr>\n",
       "    <tr>\n",
       "      <th>417</th>\n",
       "      <td>3</td>\n",
       "      <td>NaN</td>\n",
       "      <td>1</td>\n",
       "      <td>1</td>\n",
       "      <td>22.3583</td>\n",
       "    </tr>\n",
       "  </tbody>\n",
       "</table>\n",
       "</div>"
      ],
      "text/plain": [
       "     Pclass   Age  SibSp  Parch      Fare\n",
       "413       3   NaN      0      0    8.0500\n",
       "414       1  39.0      0      0  108.9000\n",
       "415       3  38.5      0      0    7.2500\n",
       "416       3   NaN      0      0    8.0500\n",
       "417       3   NaN      1      1   22.3583"
      ]
     },
     "execution_count": 11,
     "metadata": {},
     "output_type": "execute_result"
    }
   ],
   "source": [
    "X_test = test[['Pclass','Age','SibSp','Parch','Fare']]\n",
    "X_test.tail()"
   ]
  },
  {
   "cell_type": "markdown",
   "id": "fc733401",
   "metadata": {
    "papermill": {
     "duration": 0.008131,
     "end_time": "2022-10-26T20:24:49.927792",
     "exception": false,
     "start_time": "2022-10-26T20:24:49.919661",
     "status": "completed"
    },
    "tags": []
   },
   "source": [
    "# **Discret values¶**"
   ]
  },
  {
   "cell_type": "code",
   "execution_count": 12,
   "id": "d97cfa9b",
   "metadata": {
    "execution": {
     "iopub.execute_input": "2022-10-26T20:24:49.946244Z",
     "iopub.status.busy": "2022-10-26T20:24:49.945848Z",
     "iopub.status.idle": "2022-10-26T20:24:49.959198Z",
     "shell.execute_reply": "2022-10-26T20:24:49.957959Z"
    },
    "papermill": {
     "duration": 0.025407,
     "end_time": "2022-10-26T20:24:49.961597",
     "exception": false,
     "start_time": "2022-10-26T20:24:49.936190",
     "status": "completed"
    },
    "tags": []
   },
   "outputs": [
    {
     "data": {
      "text/plain": [
       "['Survived', 'Pclass', 'Sex', 'SibSp', 'Parch', 'Embarked']"
      ]
     },
     "execution_count": 12,
     "metadata": {},
     "output_type": "execute_result"
    }
   ],
   "source": [
    "discret_feature = [i for i in feature_numeric.columns if len(feature_numeric[i].unique())<20 and i not in ['PassengerId']]\n",
    "discret_feature"
   ]
  },
  {
   "cell_type": "markdown",
   "id": "25712f69",
   "metadata": {
    "papermill": {
     "duration": 0.007884,
     "end_time": "2022-10-26T20:24:49.977916",
     "exception": false,
     "start_time": "2022-10-26T20:24:49.970032",
     "status": "completed"
    },
    "tags": []
   },
   "source": [
    "**The bar chart's purpose is to have a clear vision between survived people and discret feature.**"
   ]
  },
  {
   "cell_type": "code",
   "execution_count": 13,
   "id": "2ac52008",
   "metadata": {
    "execution": {
     "iopub.execute_input": "2022-10-26T20:24:49.997814Z",
     "iopub.status.busy": "2022-10-26T20:24:49.997117Z",
     "iopub.status.idle": "2022-10-26T20:24:51.388013Z",
     "shell.execute_reply": "2022-10-26T20:24:51.386843Z"
    },
    "papermill": {
     "duration": 1.404557,
     "end_time": "2022-10-26T20:24:51.390790",
     "exception": false,
     "start_time": "2022-10-26T20:24:49.986233",
     "status": "completed"
    },
    "tags": []
   },
   "outputs": [
    {
     "data": {
      "image/png": "[encoded data removed]",
      "text/plain": [
       "<Figure size 432x288 with 1 Axes>"
      ]
     },
     "metadata": {
      "needs_background": "light"
     },
     "output_type": "display_data"
    },
    {
     "data": {
      "image/png": "[encoded data removed]",
      "text/plain": [
       "<Figure size 432x288 with 1 Axes>"
      ]
     },
     "metadata": {
      "needs_background": "light"
     },
     "output_type": "display_data"
    },
    {
     "data": {
      "image/png": "[encoded data removed]",
      "text/plain": [
       "<Figure size 432x288 with 1 Axes>"
      ]
     },
     "metadata": {
      "needs_background": "light"
     },
     "output_type": "display_data"
    },
    {
     "data": {
      "image/png": "[encoded data removed]",
      "text/plain": [
       "<Figure size 432x288 with 1 Axes>"
      ]
     },
     "metadata": {
      "needs_background": "light"
     },
     "output_type": "display_data"
    },
    {
     "data": {
      "image/png": "[encoded data removed]",
      "text/plain": [
       "<Figure size 432x288 with 1 Axes>"
      ]
     },
     "metadata": {
      "needs_background": "light"
     },
     "output_type": "display_data"
    },
    {
     "data": {
      "image/png": "[encoded data removed]",
      "text/plain": [
       "<Figure size 432x288 with 1 Axes>"
      ]
     },
     "metadata": {
      "needs_background": "light"
     },
     "output_type": "display_data"
    }
   ],
   "source": [
    "for i in discret_feature :\n",
    "    data = train.copy()\n",
    "    data.groupby(i)['Survived'].sum().plot.bar()\n",
    "    plt.xlabel(i)\n",
    "    plt.ylabel('survival')\n",
    "    plt.show()"
   ]
  },
  {
   "cell_type": "markdown",
   "id": "7d3fddd4",
   "metadata": {
    "papermill": {
     "duration": 0.009593,
     "end_time": "2022-10-26T20:24:51.410593",
     "exception": false,
     "start_time": "2022-10-26T20:24:51.401000",
     "status": "completed"
    },
    "tags": []
   },
   "source": [
    "# **Continuous features**"
   ]
  },
  {
   "cell_type": "code",
   "execution_count": 14,
   "id": "d03734ce",
   "metadata": {
    "execution": {
     "iopub.execute_input": "2022-10-26T20:24:51.433743Z",
     "iopub.status.busy": "2022-10-26T20:24:51.432229Z",
     "iopub.status.idle": "2022-10-26T20:24:51.441418Z",
     "shell.execute_reply": "2022-10-26T20:24:51.440166Z"
    },
    "papermill": {
     "duration": 0.02328,
     "end_time": "2022-10-26T20:24:51.443720",
     "exception": false,
     "start_time": "2022-10-26T20:24:51.420440",
     "status": "completed"
    },
    "tags": []
   },
   "outputs": [
    {
     "data": {
      "text/plain": [
       "['Age', 'Fare']"
      ]
     },
     "execution_count": 14,
     "metadata": {},
     "output_type": "execute_result"
    }
   ],
   "source": [
    "con_features = [i for i in feature_numeric.columns if i not in discret_feature+['PassengerId']]\n",
    "con_features"
   ]
  },
  {
   "cell_type": "code",
   "execution_count": 15,
   "id": "5cc7b787",
   "metadata": {
    "execution": {
     "iopub.execute_input": "2022-10-26T20:24:51.465827Z",
     "iopub.status.busy": "2022-10-26T20:24:51.465366Z",
     "iopub.status.idle": "2022-10-26T20:24:51.837640Z",
     "shell.execute_reply": "2022-10-26T20:24:51.836409Z"
    },
    "papermill": {
     "duration": 0.386601,
     "end_time": "2022-10-26T20:24:51.840293",
     "exception": false,
     "start_time": "2022-10-26T20:24:51.453692",
     "status": "completed"
    },
    "tags": []
   },
   "outputs": [
    {
     "data": {
      "image/png": "[encoded data removed]",
      "text/plain": [
       "<Figure size 432x288 with 1 Axes>"
      ]
     },
     "metadata": {
      "needs_background": "light"
     },
     "output_type": "display_data"
    },
    {
     "data": {
      "image/png": "[encoded data removed]",
      "text/plain": [
       "<Figure size 432x288 with 1 Axes>"
      ]
     },
     "metadata": {
      "needs_background": "light"
     },
     "output_type": "display_data"
    }
   ],
   "source": [
    "for i in con_features :\n",
    "    data = train.copy()\n",
    "    data.groupby('Survived')[i].mean().plot.bar()\n",
    "    plt.xlabel('survived')\n",
    "    plt.ylabel(i)\n",
    "    plt.show()"
   ]
  },
  {
   "cell_type": "code",
   "execution_count": 16,
   "id": "149314c6",
   "metadata": {
    "execution": {
     "iopub.execute_input": "2022-10-26T20:24:51.862983Z",
     "iopub.status.busy": "2022-10-26T20:24:51.862543Z",
     "iopub.status.idle": "2022-10-26T20:24:52.300844Z",
     "shell.execute_reply": "2022-10-26T20:24:52.299861Z"
    },
    "papermill": {
     "duration": 0.452785,
     "end_time": "2022-10-26T20:24:52.303323",
     "exception": false,
     "start_time": "2022-10-26T20:24:51.850538",
     "status": "completed"
    },
    "tags": []
   },
   "outputs": [
    {
     "data": {
      "image/png": "[encoded data removed]",
      "text/plain": [
       "<Figure size 432x288 with 1 Axes>"
      ]
     },
     "metadata": {
      "needs_background": "light"
     },
     "output_type": "display_data"
    },
    {
     "data": {
      "image/png": "[encoded data removed]",
      "text/plain": [
       "<Figure size 432x288 with 1 Axes>"
      ]
     },
     "metadata": {
      "needs_background": "light"
     },
     "output_type": "display_data"
    }
   ],
   "source": [
    "for i in con_features :\n",
    "    data = train.copy()\n",
    "    data.groupby(i)['Survived'].sum().plot()\n",
    "    plt.xlabel(i)\n",
    "    plt.ylabel('survived')\n",
    "    plt.show()"
   ]
  },
  {
   "cell_type": "code",
   "execution_count": 17,
   "id": "a57ab9c4",
   "metadata": {
    "execution": {
     "iopub.execute_input": "2022-10-26T20:24:52.328643Z",
     "iopub.status.busy": "2022-10-26T20:24:52.327478Z",
     "iopub.status.idle": "2022-10-26T20:24:52.351516Z",
     "shell.execute_reply": "2022-10-26T20:24:52.350456Z"
    },
    "papermill": {
     "duration": 0.040048,
     "end_time": "2022-10-26T20:24:52.354869",
     "exception": false,
     "start_time": "2022-10-26T20:24:52.314821",
     "status": "completed"
    },
    "tags": []
   },
   "outputs": [
    {
     "data": {
      "text/html": [
       "<div>\n",
       "<style scoped>\n",
       "    .dataframe tbody tr th:only-of-type {\n",
       "        vertical-align: middle;\n",
       "    }\n",
       "\n",
       "    .dataframe tbody tr th {\n",
       "        vertical-align: top;\n",
       "    }\n",
       "\n",
       "    .dataframe thead th {\n",
       "        text-align: right;\n",
       "    }\n",
       "</style>\n",
       "<table border=\"1\" class=\"dataframe\">\n",
       "  <thead>\n",
       "    <tr style=\"text-align: right;\">\n",
       "      <th></th>\n",
       "      <th>Age</th>\n",
       "      <th>Fare</th>\n",
       "    </tr>\n",
       "  </thead>\n",
       "  <tbody>\n",
       "    <tr>\n",
       "      <th>count</th>\n",
       "      <td>714.000000</td>\n",
       "      <td>891.000000</td>\n",
       "    </tr>\n",
       "    <tr>\n",
       "      <th>mean</th>\n",
       "      <td>29.699118</td>\n",
       "      <td>32.204208</td>\n",
       "    </tr>\n",
       "    <tr>\n",
       "      <th>std</th>\n",
       "      <td>14.526497</td>\n",
       "      <td>49.693429</td>\n",
       "    </tr>\n",
       "    <tr>\n",
       "      <th>min</th>\n",
       "      <td>0.420000</td>\n",
       "      <td>0.000000</td>\n",
       "    </tr>\n",
       "    <tr>\n",
       "      <th>25%</th>\n",
       "      <td>20.125000</td>\n",
       "      <td>7.910400</td>\n",
       "    </tr>\n",
       "    <tr>\n",
       "      <th>50%</th>\n",
       "      <td>28.000000</td>\n",
       "      <td>14.454200</td>\n",
       "    </tr>\n",
       "    <tr>\n",
       "      <th>75%</th>\n",
       "      <td>38.000000</td>\n",
       "      <td>31.000000</td>\n",
       "    </tr>\n",
       "    <tr>\n",
       "      <th>max</th>\n",
       "      <td>80.000000</td>\n",
       "      <td>512.329200</td>\n",
       "    </tr>\n",
       "  </tbody>\n",
       "</table>\n",
       "</div>"
      ],
      "text/plain": [
       "              Age        Fare\n",
       "count  714.000000  891.000000\n",
       "mean    29.699118   32.204208\n",
       "std     14.526497   49.693429\n",
       "min      0.420000    0.000000\n",
       "25%     20.125000    7.910400\n",
       "50%     28.000000   14.454200\n",
       "75%     38.000000   31.000000\n",
       "max     80.000000  512.329200"
      ]
     },
     "execution_count": 17,
     "metadata": {},
     "output_type": "execute_result"
    }
   ],
   "source": [
    "train[[\"Age\", \"Fare\"]].describe()"
   ]
  },
  {
   "cell_type": "code",
   "execution_count": 18,
   "id": "f53933c9",
   "metadata": {
    "execution": {
     "iopub.execute_input": "2022-10-26T20:24:52.379734Z",
     "iopub.status.busy": "2022-10-26T20:24:52.378623Z",
     "iopub.status.idle": "2022-10-26T20:24:52.388210Z",
     "shell.execute_reply": "2022-10-26T20:24:52.387328Z"
    },
    "papermill": {
     "duration": 0.024523,
     "end_time": "2022-10-26T20:24:52.390584",
     "exception": false,
     "start_time": "2022-10-26T20:24:52.366061",
     "status": "completed"
    },
    "tags": []
   },
   "outputs": [],
   "source": [
    "train_data = cleaning_data(train)\n",
    "test_data = cleaning_data(test)"
   ]
  },
  {
   "cell_type": "code",
   "execution_count": 19,
   "id": "5dc7e18a",
   "metadata": {
    "execution": {
     "iopub.execute_input": "2022-10-26T20:24:52.415379Z",
     "iopub.status.busy": "2022-10-26T20:24:52.414526Z",
     "iopub.status.idle": "2022-10-26T20:24:52.421316Z",
     "shell.execute_reply": "2022-10-26T20:24:52.420432Z"
    },
    "papermill": {
     "duration": 0.021616,
     "end_time": "2022-10-26T20:24:52.423404",
     "exception": false,
     "start_time": "2022-10-26T20:24:52.401788",
     "status": "completed"
    },
    "tags": []
   },
   "outputs": [
    {
     "data": {
      "text/plain": [
       "\"from sklearn.tree import DecisionTreeClassifier\\ny = train_data['Survived']\\nX = train_data[['Pclass','Sex','Age','SibSp','Parch','Fare','Embarked']]\\nx_test =  test_data[['Pclass','Sex','Age','SibSp','Parch','Fare','Embarked']]\\nclf = tree.DecisionTreeClassifier()\\nclf = clf.fit(X, y)\""
      ]
     },
     "execution_count": 19,
     "metadata": {},
     "output_type": "execute_result"
    }
   ],
   "source": [
    "\"\"\"from sklearn.tree import DecisionTreeClassifier\n",
    "y = train_data['Survived']\n",
    "X = train_data[['Pclass','Sex','Age','SibSp','Parch','Fare','Embarked']]\n",
    "x_test =  test_data[['Pclass','Sex','Age','SibSp','Parch','Fare','Embarked']]\n",
    "clf = tree.DecisionTreeClassifier()\n",
    "clf = clf.fit(X, y)\"\"\""
   ]
  },
  {
   "cell_type": "code",
   "execution_count": 20,
   "id": "fadf4ce2",
   "metadata": {
    "execution": {
     "iopub.execute_input": "2022-10-26T20:24:52.449122Z",
     "iopub.status.busy": "2022-10-26T20:24:52.448009Z",
     "iopub.status.idle": "2022-10-26T20:24:53.506214Z",
     "shell.execute_reply": "2022-10-26T20:24:53.504566Z"
    },
    "papermill": {
     "duration": 1.074522,
     "end_time": "2022-10-26T20:24:53.509267",
     "exception": false,
     "start_time": "2022-10-26T20:24:52.434745",
     "status": "completed"
    },
    "tags": []
   },
   "outputs": [],
   "source": [
    "from sklearn.naive_bayes import GaussianNB\n",
    "y = train_data['Survived']\n",
    "X = train_data[['Pclass','Sex','Age','SibSp','Parch','Fare','Embarked']]\n",
    "x_test =  test_data[['Pclass','Sex','Age','SibSp','Parch','Fare','Embarked']]\n",
    "gnb = GaussianNB()\n",
    "gnb = gnb.fit(X, y)"
   ]
  },
  {
   "cell_type": "code",
   "execution_count": 21,
   "id": "52f65270",
   "metadata": {
    "execution": {
     "iopub.execute_input": "2022-10-26T20:24:53.534872Z",
     "iopub.status.busy": "2022-10-26T20:24:53.533794Z",
     "iopub.status.idle": "2022-10-26T20:24:53.542701Z",
     "shell.execute_reply": "2022-10-26T20:24:53.541538Z"
    },
    "papermill": {
     "duration": 0.024768,
     "end_time": "2022-10-26T20:24:53.545599",
     "exception": false,
     "start_time": "2022-10-26T20:24:53.520831",
     "status": "completed"
    },
    "tags": []
   },
   "outputs": [],
   "source": [
    "x_test = x_test.replace((np.inf, -np.inf, np.nan), 0).reset_index(drop=True)"
   ]
  },
  {
   "cell_type": "code",
   "execution_count": 22,
   "id": "c6c314b3",
   "metadata": {
    "execution": {
     "iopub.execute_input": "2022-10-26T20:24:53.571015Z",
     "iopub.status.busy": "2022-10-26T20:24:53.570525Z",
     "iopub.status.idle": "2022-10-26T20:24:53.582132Z",
     "shell.execute_reply": "2022-10-26T20:24:53.580773Z"
    },
    "papermill": {
     "duration": 0.027629,
     "end_time": "2022-10-26T20:24:53.584602",
     "exception": false,
     "start_time": "2022-10-26T20:24:53.556973",
     "status": "completed"
    },
    "tags": []
   },
   "outputs": [
    {
     "data": {
      "text/plain": [
       "array([0, 1, 0, 0, 1, 0, 1, 0, 1, 0, 0, 0, 1, 0, 1, 1, 0, 0, 1, 1, 1, 0,\n",
       "       1, 1, 1, 0, 1, 0, 0, 0, 0, 0, 1, 1, 1, 0, 1, 1, 0, 0, 0, 0, 0, 1,\n",
       "       1, 0, 0, 0, 1, 1, 0, 0, 1, 1, 0, 0, 0, 0, 0, 1, 0, 0, 0, 1, 1, 1,\n",
       "       1, 0, 0, 1, 1, 0, 1, 0, 1, 1, 0, 1, 0, 1, 0, 1, 0, 0, 0, 0, 1, 1,\n",
       "       1, 0, 1, 0, 1, 0, 0, 0, 1, 0, 1, 0, 1, 0, 0, 0, 1, 0, 0, 0, 0, 0,\n",
       "       0, 1, 1, 1, 1, 0, 0, 1, 1, 1, 1, 0, 1, 0, 0, 1, 0, 0, 0, 0, 0, 0,\n",
       "       1, 0, 0, 0, 0, 0, 1, 0, 0, 1, 1, 0, 0, 0, 0, 0, 0, 0, 1, 0, 0, 1,\n",
       "       0, 0, 1, 1, 0, 1, 1, 0, 1, 0, 0, 1, 0, 0, 1, 1, 0, 0, 0, 0, 0, 1,\n",
       "       1, 1, 1, 1, 0, 1, 1, 0, 1, 0, 1, 0, 0, 0, 0, 0, 0, 0, 0, 0, 1, 1,\n",
       "       0, 1, 1, 0, 1, 1, 0, 0, 1, 0, 1, 0, 0, 0, 0, 1, 0, 0, 1, 1, 1, 0,\n",
       "       1, 0, 1, 0, 1, 1, 0, 1, 0, 0, 0, 1, 0, 0, 1, 0, 1, 0, 1, 1, 1, 1,\n",
       "       1, 0, 0, 0, 1, 0, 1, 1, 1, 0, 1, 0, 0, 0, 0, 0, 1, 0, 0, 0, 1, 1,\n",
       "       0, 0, 0, 0, 1, 0, 1, 0, 1, 1, 0, 1, 0, 0, 0, 0, 1, 0, 1, 1, 1, 0,\n",
       "       0, 1, 0, 0, 0, 1, 0, 1, 0, 0, 1, 0, 0, 0, 0, 0, 0, 0, 1, 1, 1, 0,\n",
       "       1, 1, 0, 0, 0, 1, 1, 1, 1, 0, 0, 0, 0, 0, 0, 0, 1, 0, 1, 1, 0, 0,\n",
       "       1, 0, 0, 1, 0, 0, 0, 0, 0, 0, 0, 0, 0, 1, 0, 1, 0, 1, 0, 1, 1, 0,\n",
       "       0, 0, 1, 0, 1, 0, 0, 1, 0, 1, 1, 0, 1, 0, 0, 1, 1, 0, 0, 1, 0, 0,\n",
       "       1, 1, 0, 0, 0, 0, 0, 0, 1, 1, 0, 1, 0, 0, 0, 0, 1, 1, 0, 0, 0, 1,\n",
       "       0, 1, 0, 0, 1, 0, 1, 0, 0, 0, 0, 1, 1, 1, 1, 1, 1, 0, 1, 0, 0, 0])"
      ]
     },
     "execution_count": 22,
     "metadata": {},
     "output_type": "execute_result"
    }
   ],
   "source": [
    "y_pred = gnb.predict(x_test)\n",
    "y_pred"
   ]
  },
  {
   "cell_type": "code",
   "execution_count": 23,
   "id": "a13db8c4",
   "metadata": {
    "execution": {
     "iopub.execute_input": "2022-10-26T20:24:53.609491Z",
     "iopub.status.busy": "2022-10-26T20:24:53.608696Z",
     "iopub.status.idle": "2022-10-26T20:24:53.671553Z",
     "shell.execute_reply": "2022-10-26T20:24:53.670019Z"
    },
    "papermill": {
     "duration": 0.078331,
     "end_time": "2022-10-26T20:24:53.674264",
     "exception": false,
     "start_time": "2022-10-26T20:24:53.595933",
     "status": "completed"
    },
    "tags": []
   },
   "outputs": [
    {
     "data": {
      "text/plain": [
       "0.9234449760765551"
      ]
     },
     "execution_count": 23,
     "metadata": {},
     "output_type": "execute_result"
    }
   ],
   "source": [
    "from sklearn.metrics import accuracy_score\n",
    "\n",
    "sub = pd.read_csv('../input/titanic/gender_submission.csv')\n",
    "acc = accuracy_score(sub['Survived'], y_pred)\n",
    "acc"
   ]
  },
  {
   "cell_type": "code",
   "execution_count": 24,
   "id": "033a00e3",
   "metadata": {
    "execution": {
     "iopub.execute_input": "2022-10-26T20:24:53.699005Z",
     "iopub.status.busy": "2022-10-26T20:24:53.698589Z",
     "iopub.status.idle": "2022-10-26T20:24:53.708553Z",
     "shell.execute_reply": "2022-10-26T20:24:53.707113Z"
    },
    "papermill": {
     "duration": 0.025741,
     "end_time": "2022-10-26T20:24:53.711443",
     "exception": false,
     "start_time": "2022-10-26T20:24:53.685702",
     "status": "completed"
    },
    "tags": []
   },
   "outputs": [],
   "source": [
    "sub[\"Survived\"] = y_pred\n",
    "sub.to_csv(\"submission.csv\", index=False)"
   ]
  },
  {
   "cell_type": "code",
   "execution_count": null,
   "id": "44470a06",
   "metadata": {
    "papermill": {
     "duration": 0.010769,
     "end_time": "2022-10-26T20:24:53.733292",
     "exception": false,
     "start_time": "2022-10-26T20:24:53.722523",
     "status": "completed"
    },
    "tags": []
   },
   "outputs": [],
   "source": []
  }
 ],
 "metadata": {
  "kernelspec": {
   "display_name": "Python 3",
   "language": "python",
   "name": "python3"
  },
  "language_info": {
   "codemirror_mode": {
    "name": "ipython",
    "version": 3
   },
   "file_extension": ".py",
   "mimetype": "text/x-python",
   "name": "python",
   "nbconvert_exporter": "python",
   "pygments_lexer": "ipython3",
   "version": "3.7.12"
  },
  "papermill": {
   "default_parameters": {},
   "duration": 14.553053,
   "end_time": "2022-10-26T20:24:54.669242",
   "environment_variables": {},
   "exception": null,
   "input_path": "__notebook__.ipynb",
   "output_path": "__notebook__.ipynb",
   "parameters": {},
   "start_time": "2022-10-26T20:24:40.116189",
   "version": "2.3.4"
  }
 },
 "nbformat": 4,
 "nbformat_minor": 5
}
